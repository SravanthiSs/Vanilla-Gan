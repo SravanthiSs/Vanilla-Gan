{
  "cells": [
    {
      "cell_type": "code",
      "execution_count": null,
      "metadata": {
        "id": "PIpHAZ9IqyTO"
      },
      "outputs": [],
      "source": [
        "import torch\n",
        "import torch.nn as nn\n",
        "import torch.optim as optim\n",
        "from torch.autograd.variable import Variable\n",
        "from torchvision import transforms\n",
        "from torchvision.datasets import MNIST\n",
        "from torchvision.utils import make_grid\n",
        "from torch.utils.data import DataLoader\n",
        "import imageio"
      ]
    },
    {
      "cell_type": "code",
      "execution_count": null,
      "metadata": {
        "colab": {
          "base_uri": "https://localhost:8080/"
        },
        "id": "_CQc_0i8qyTR",
        "outputId": "78d7b045-c40f-4d17-cd2e-a6b6efde3fa3"
      },
      "outputs": [
        {
          "output_type": "stream",
          "name": "stdout",
          "text": [
            "Downloading http://yann.lecun.com/exdb/mnist/train-images-idx3-ubyte.gz\n",
            "Downloading http://yann.lecun.com/exdb/mnist/train-images-idx3-ubyte.gz to ./data/MNIST/raw/train-images-idx3-ubyte.gz\n"
          ]
        },
        {
          "output_type": "stream",
          "name": "stderr",
          "text": [
            "100%|██████████| 9912422/9912422 [00:00<00:00, 113900441.20it/s]\n"
          ]
        },
        {
          "output_type": "stream",
          "name": "stdout",
          "text": [
            "Extracting ./data/MNIST/raw/train-images-idx3-ubyte.gz to ./data/MNIST/raw\n",
            "\n",
            "Downloading http://yann.lecun.com/exdb/mnist/train-labels-idx1-ubyte.gz\n",
            "Downloading http://yann.lecun.com/exdb/mnist/train-labels-idx1-ubyte.gz to ./data/MNIST/raw/train-labels-idx1-ubyte.gz\n"
          ]
        },
        {
          "output_type": "stream",
          "name": "stderr",
          "text": [
            "100%|██████████| 28881/28881 [00:00<00:00, 22701591.80it/s]\n"
          ]
        },
        {
          "output_type": "stream",
          "name": "stdout",
          "text": [
            "Extracting ./data/MNIST/raw/train-labels-idx1-ubyte.gz to ./data/MNIST/raw\n",
            "\n",
            "Downloading http://yann.lecun.com/exdb/mnist/t10k-images-idx3-ubyte.gz\n",
            "Downloading http://yann.lecun.com/exdb/mnist/t10k-images-idx3-ubyte.gz to ./data/MNIST/raw/t10k-images-idx3-ubyte.gz\n"
          ]
        },
        {
          "output_type": "stream",
          "name": "stderr",
          "text": [
            "100%|██████████| 1648877/1648877 [00:00<00:00, 32578025.96it/s]\n"
          ]
        },
        {
          "output_type": "stream",
          "name": "stdout",
          "text": [
            "Extracting ./data/MNIST/raw/t10k-images-idx3-ubyte.gz to ./data/MNIST/raw\n",
            "\n",
            "Downloading http://yann.lecun.com/exdb/mnist/t10k-labels-idx1-ubyte.gz\n",
            "Downloading http://yann.lecun.com/exdb/mnist/t10k-labels-idx1-ubyte.gz to ./data/MNIST/raw/t10k-labels-idx1-ubyte.gz\n"
          ]
        },
        {
          "output_type": "stream",
          "name": "stderr",
          "text": [
            "100%|██████████| 4542/4542 [00:00<00:00, 3118947.08it/s]\n"
          ]
        },
        {
          "output_type": "stream",
          "name": "stdout",
          "text": [
            "Extracting ./data/MNIST/raw/t10k-labels-idx1-ubyte.gz to ./data/MNIST/raw\n",
            "\n"
          ]
        }
      ],
      "source": [
        "transform = transforms.Compose([\n",
        "                transforms.ToTensor(),\n",
        "                transforms.Normalize((0.5,),(0.5,))\n",
        "                ])\n",
        "to_image = transforms.ToPILImage()\n",
        "trainset = MNIST(root='./data/', train=True, download=True, transform=transform)\n",
        "trainloader = DataLoader(trainset, batch_size=100, shuffle=True)\n",
        "\n",
        "device = 'cuda'"
      ]
    },
    {
      "cell_type": "code",
      "execution_count": null,
      "metadata": {
        "id": "0cJKODM2qyTT"
      },
      "outputs": [],
      "source": [
        "class Generator(nn.Module):\n",
        "    def __init__(self):\n",
        "        super(Generator, self).__init__()\n",
        "        self.n_features = 128\n",
        "        self.n_out = 784\n",
        "        self.fc0 = nn.Sequential(\n",
        "                    nn.Linear(self.n_features, 256),\n",
        "                    nn.LeakyReLU(0.2)\n",
        "                    )\n",
        "        self.fc1 = nn.Sequential(\n",
        "                    nn.Linear(256, 512),\n",
        "                    nn.LeakyReLU(0.2)\n",
        "                    )\n",
        "        self.fc2 = nn.Sequential(\n",
        "                    nn.Linear(512, 1024),\n",
        "                    nn.LeakyReLU(0.2)\n",
        "                    )\n",
        "        self.fc3 = nn.Sequential(\n",
        "                    nn.Linear(1024, self.n_out),\n",
        "                    nn.Tanh()\n",
        "                    )\n",
        "    def forward(self, x):\n",
        "        x = self.fc0(x)\n",
        "        x = self.fc1(x)\n",
        "        x = self.fc2(x)\n",
        "        x = self.fc3(x)\n",
        "        x = x.view(-1, 1, 28, 28)\n",
        "        return x\n",
        "\n",
        "class Discriminator(nn.Module):\n",
        "    def __init__(self):\n",
        "        super(Discriminator, self).__init__()\n",
        "        self.n_in = 784\n",
        "        self.n_out = 1\n",
        "        self.fc0 = nn.Sequential(\n",
        "                    nn.Linear(self.n_in, 1024),\n",
        "                    nn.LeakyReLU(0.2),\n",
        "                    nn.Dropout(0.3)\n",
        "                    )\n",
        "        self.fc1 = nn.Sequential(\n",
        "                    nn.Linear(1024, 512),\n",
        "                    nn.LeakyReLU(0.2),\n",
        "                    nn.Dropout(0.3)\n",
        "                    )\n",
        "        self.fc2 = nn.Sequential(\n",
        "                    nn.Linear(512, 256),\n",
        "                    nn.LeakyReLU(0.2),\n",
        "                    nn.Dropout(0.3)\n",
        "                    )\n",
        "        self.fc3 = nn.Sequential(\n",
        "                    nn.Linear(256, self.n_out),\n",
        "                    nn.Sigmoid()\n",
        "                    )\n",
        "    def forward(self, x):\n",
        "        x = x.view(-1, 784)\n",
        "        x = self.fc0(x)\n",
        "        x = self.fc1(x)\n",
        "        x = self.fc2(x)\n",
        "        x = self.fc3(x)\n",
        "        return x"
      ]
    },
    {
      "cell_type": "code",
      "execution_count": null,
      "metadata": {
        "colab": {
          "base_uri": "https://localhost:8080/"
        },
        "id": "WTQyz7N7ZTOW",
        "outputId": "b9013eb1-2b5c-4916-9ced-f118c7f87817"
      },
      "outputs": [
        {
          "output_type": "stream",
          "name": "stdout",
          "text": [
            "True\n"
          ]
        }
      ],
      "source": [
        "import torch\n",
        "print(torch.cuda.is_available())"
      ]
    },
    {
      "cell_type": "code",
      "execution_count": null,
      "metadata": {
        "id": "5cuePtAyqyTV"
      },
      "outputs": [],
      "source": [
        "generator = Generator()\n",
        "discriminator = Discriminator()\n",
        "\n",
        "generator.to(device)\n",
        "discriminator.to(device)\n",
        "\n",
        "g_optim = optim.Adam(generator.parameters(), lr=2e-4)\n",
        "d_optim = optim.Adam(discriminator.parameters(), lr=2e-4)\n",
        "\n",
        "g_losses = []\n",
        "d_losses = []\n",
        "images = []\n",
        "\n",
        "criterion = nn.BCELoss()\n",
        "\n",
        "def noise(n, n_features=128):\n",
        "    return Variable(torch.randn(n, n_features)).to(device)\n",
        "\n",
        "def make_ones(size):\n",
        "    data = Variable(torch.ones(size, 1))\n",
        "    return data.to(device)\n",
        "\n",
        "def make_zeros(size):\n",
        "    data = Variable(torch.zeros(size, 1))\n",
        "    return data.to(device)"
      ]
    },
    {
      "cell_type": "code",
      "execution_count": null,
      "metadata": {
        "id": "Xe8tdY9tqyTX"
      },
      "outputs": [],
      "source": [
        "def train_discriminator(optimizer, real_data, fake_data):\n",
        "    n = real_data.size(0)\n",
        "    optimizer.zero_grad()\n",
        "    prediction_real = discriminator(real_data)\n",
        "    error_real = criterion(prediction_real, make_ones(n))\n",
        "    error_real.backward()\n",
        "    prediction_fake = discriminator(fake_data)\n",
        "    error_fake = criterion(prediction_fake, make_zeros(n))\n",
        "    error_fake.backward()\n",
        "    optimizer.step()\n",
        "    return error_real + error_fake\n",
        "\n",
        "def train_generator(optimizer, fake_data):\n",
        "    n = fake_data.size(0)\n",
        "    optimizer.zero_grad()\n",
        "    prediction = discriminator(fake_data)\n",
        "    error = criterion(prediction, make_ones(n))\n",
        "    error.backward()\n",
        "    optimizer.step()\n",
        "    return error"
      ]
    },
    {
      "cell_type": "code",
      "execution_count": null,
      "metadata": {
        "colab": {
          "base_uri": "https://localhost:8080/"
        },
        "id": "MfmlwbTHqyTZ",
        "scrolled": true,
        "outputId": "41454b79-ab14-4200-c9fd-57bec56030a6"
      },
      "outputs": [
        {
          "output_type": "stream",
          "name": "stdout",
          "text": [
            "Epoch 0: g_loss: 4.35872412 d_loss: 0.60697854\n",
            "Epoch 1: g_loss: 4.53275967 d_loss: 0.62950152\n",
            "Epoch 2: g_loss: 2.21013236 d_loss: 0.92196292\n",
            "Epoch 3: g_loss: 2.36324787 d_loss: 0.76810730\n",
            "Epoch 4: g_loss: 3.43707204 d_loss: 0.40562046\n",
            "Epoch 5: g_loss: 2.91832829 d_loss: 0.53412223\n",
            "Epoch 6: g_loss: 3.11625028 d_loss: 0.50914168\n",
            "Epoch 7: g_loss: 2.60406709 d_loss: 0.59477192\n",
            "Epoch 8: g_loss: 2.51561427 d_loss: 0.60160285\n",
            "Epoch 9: g_loss: 2.47128701 d_loss: 0.63531160\n",
            "Epoch 10: g_loss: 2.34859872 d_loss: 0.66075116\n",
            "Epoch 11: g_loss: 2.27696228 d_loss: 0.66731983\n",
            "Epoch 12: g_loss: 2.11645937 d_loss: 0.72138333\n",
            "Epoch 13: g_loss: 2.15728760 d_loss: 0.74384272\n",
            "Epoch 14: g_loss: 1.93465972 d_loss: 0.81598693\n",
            "Epoch 15: g_loss: 1.96517062 d_loss: 0.76423889\n",
            "Epoch 16: g_loss: 1.83123171 d_loss: 0.83684778\n",
            "Epoch 17: g_loss: 1.68868399 d_loss: 0.88111162\n",
            "Epoch 18: g_loss: 1.72506034 d_loss: 0.86151832\n",
            "Epoch 19: g_loss: 1.78770828 d_loss: 0.83337182\n",
            "Epoch 20: g_loss: 1.65506303 d_loss: 0.90358186\n",
            "Epoch 21: g_loss: 1.59975922 d_loss: 0.93329966\n",
            "Epoch 22: g_loss: 1.51909924 d_loss: 0.95390654\n",
            "Epoch 23: g_loss: 1.58221304 d_loss: 0.92502993\n",
            "Epoch 24: g_loss: 1.50910687 d_loss: 0.95531440\n",
            "Epoch 25: g_loss: 1.50316930 d_loss: 0.96275181\n",
            "Epoch 26: g_loss: 1.41076517 d_loss: 1.00352752\n",
            "Epoch 27: g_loss: 1.32234073 d_loss: 1.04336739\n",
            "Epoch 28: g_loss: 1.37637508 d_loss: 1.01948857\n",
            "Epoch 29: g_loss: 1.33562553 d_loss: 1.03775597\n",
            "Epoch 30: g_loss: 1.33265126 d_loss: 1.04136503\n",
            "Epoch 31: g_loss: 1.39809906 d_loss: 1.01263523\n",
            "Epoch 32: g_loss: 1.33925557 d_loss: 1.03307605\n",
            "Epoch 33: g_loss: 1.34134507 d_loss: 1.04479527\n",
            "Epoch 34: g_loss: 1.31529224 d_loss: 1.05202544\n",
            "Epoch 35: g_loss: 1.28982484 d_loss: 1.05512249\n",
            "Epoch 36: g_loss: 1.33092260 d_loss: 1.03926051\n",
            "Epoch 37: g_loss: 1.26220810 d_loss: 1.07128918\n",
            "Epoch 38: g_loss: 1.26036227 d_loss: 1.08040297\n",
            "Epoch 39: g_loss: 1.25039780 d_loss: 1.07788885\n",
            "Epoch 40: g_loss: 1.19882202 d_loss: 1.10450983\n",
            "Epoch 41: g_loss: 1.15738440 d_loss: 1.12633121\n",
            "Epoch 42: g_loss: 1.16784477 d_loss: 1.11941028\n",
            "Epoch 43: g_loss: 1.18876898 d_loss: 1.12325799\n",
            "Epoch 44: g_loss: 1.20871985 d_loss: 1.10872102\n",
            "Epoch 45: g_loss: 1.14227867 d_loss: 1.13139737\n",
            "Epoch 46: g_loss: 1.13609421 d_loss: 1.13653493\n",
            "Epoch 47: g_loss: 1.16708970 d_loss: 1.11772394\n",
            "Epoch 48: g_loss: 1.12685192 d_loss: 1.14552367\n",
            "Epoch 49: g_loss: 1.16547298 d_loss: 1.12897992\n",
            "Epoch 50: g_loss: 1.14250588 d_loss: 1.14165151\n",
            "Epoch 51: g_loss: 1.10390866 d_loss: 1.15535176\n",
            "Epoch 52: g_loss: 1.11151206 d_loss: 1.14993334\n",
            "Epoch 53: g_loss: 1.08958471 d_loss: 1.16500354\n",
            "Epoch 54: g_loss: 1.09632623 d_loss: 1.16698182\n",
            "Epoch 55: g_loss: 1.08629704 d_loss: 1.16579735\n",
            "Epoch 56: g_loss: 1.07033515 d_loss: 1.17626548\n",
            "Epoch 57: g_loss: 1.05957806 d_loss: 1.18016887\n",
            "Epoch 58: g_loss: 1.05514503 d_loss: 1.19125569\n",
            "Epoch 59: g_loss: 1.05499852 d_loss: 1.18329298\n",
            "Epoch 60: g_loss: 1.03959203 d_loss: 1.19101942\n",
            "Epoch 61: g_loss: 1.03785062 d_loss: 1.19619274\n",
            "Epoch 62: g_loss: 1.03227174 d_loss: 1.20396316\n",
            "Epoch 63: g_loss: 1.04802549 d_loss: 1.19637370\n",
            "Epoch 64: g_loss: 1.03424370 d_loss: 1.20321500\n",
            "Epoch 65: g_loss: 1.04431951 d_loss: 1.19994164\n",
            "Epoch 66: g_loss: 1.03115726 d_loss: 1.19828880\n",
            "Epoch 67: g_loss: 1.03396726 d_loss: 1.19814312\n",
            "Epoch 68: g_loss: 1.02630115 d_loss: 1.20388079\n",
            "Epoch 69: g_loss: 1.03653288 d_loss: 1.19924963\n",
            "Epoch 70: g_loss: 1.02691424 d_loss: 1.20647228\n",
            "Epoch 71: g_loss: 0.99982023 d_loss: 1.21277118\n",
            "Epoch 72: g_loss: 0.99306786 d_loss: 1.21906173\n",
            "Epoch 73: g_loss: 0.99186301 d_loss: 1.22243357\n",
            "Epoch 74: g_loss: 0.98161536 d_loss: 1.22747111\n",
            "Epoch 75: g_loss: 0.97880334 d_loss: 1.22966838\n",
            "Epoch 76: g_loss: 0.99199235 d_loss: 1.22667563\n",
            "Epoch 77: g_loss: 0.97636783 d_loss: 1.23293757\n",
            "Epoch 78: g_loss: 0.98348856 d_loss: 1.22465634\n",
            "Epoch 79: g_loss: 0.96501380 d_loss: 1.23395503\n",
            "Epoch 80: g_loss: 0.98514521 d_loss: 1.23328781\n",
            "Epoch 81: g_loss: 0.97691816 d_loss: 1.22926939\n",
            "Epoch 82: g_loss: 0.97929895 d_loss: 1.23433864\n",
            "Epoch 83: g_loss: 0.98950988 d_loss: 1.22789288\n",
            "Epoch 84: g_loss: 0.98495406 d_loss: 1.23210788\n",
            "Epoch 85: g_loss: 0.97274780 d_loss: 1.23778987\n",
            "Epoch 86: g_loss: 0.97787714 d_loss: 1.23470831\n",
            "Epoch 87: g_loss: 0.96718305 d_loss: 1.23467028\n",
            "Epoch 88: g_loss: 0.96520644 d_loss: 1.23540044\n",
            "Epoch 89: g_loss: 0.95657831 d_loss: 1.23953927\n",
            "Epoch 90: g_loss: 0.95216841 d_loss: 1.24379635\n",
            "Epoch 91: g_loss: 0.94519132 d_loss: 1.24729800\n",
            "Epoch 92: g_loss: 0.95486867 d_loss: 1.24910080\n",
            "Epoch 93: g_loss: 0.94509941 d_loss: 1.25137448\n",
            "Epoch 94: g_loss: 0.94333917 d_loss: 1.25440288\n",
            "Epoch 95: g_loss: 0.95447212 d_loss: 1.25004160\n",
            "Epoch 96: g_loss: 0.95709819 d_loss: 1.24603581\n",
            "Epoch 97: g_loss: 0.95358413 d_loss: 1.24486804\n",
            "Epoch 98: g_loss: 0.93890136 d_loss: 1.25394630\n",
            "Epoch 99: g_loss: 0.93527520 d_loss: 1.25612485\n",
            "Epoch 100: g_loss: 0.93123984 d_loss: 1.25553632\n",
            "Epoch 101: g_loss: 0.94316912 d_loss: 1.25687897\n",
            "Epoch 102: g_loss: 0.94646990 d_loss: 1.25188375\n",
            "Epoch 103: g_loss: 0.93220091 d_loss: 1.25656724\n",
            "Epoch 104: g_loss: 0.96168375 d_loss: 1.25312543\n",
            "Epoch 105: g_loss: 0.94795501 d_loss: 1.25023472\n",
            "Epoch 106: g_loss: 0.92666030 d_loss: 1.25589192\n",
            "Epoch 107: g_loss: 0.92513490 d_loss: 1.26019990\n",
            "Epoch 108: g_loss: 0.91474456 d_loss: 1.26562154\n",
            "Epoch 109: g_loss: 0.93556130 d_loss: 1.25949764\n",
            "Epoch 110: g_loss: 0.92595893 d_loss: 1.26294076\n",
            "Epoch 111: g_loss: 0.92190892 d_loss: 1.26464343\n",
            "Epoch 112: g_loss: 0.91872633 d_loss: 1.26257586\n",
            "Epoch 113: g_loss: 0.92797536 d_loss: 1.26297140\n",
            "Epoch 114: g_loss: 0.92822558 d_loss: 1.25666046\n",
            "Epoch 115: g_loss: 0.92572010 d_loss: 1.26281583\n",
            "Epoch 116: g_loss: 0.92312831 d_loss: 1.26503503\n",
            "Epoch 117: g_loss: 0.91245335 d_loss: 1.26804054\n",
            "Epoch 118: g_loss: 0.93492007 d_loss: 1.26187336\n",
            "Epoch 119: g_loss: 0.93382889 d_loss: 1.25944519\n",
            "Epoch 120: g_loss: 0.92739135 d_loss: 1.26074493\n",
            "Epoch 121: g_loss: 0.92278755 d_loss: 1.25965405\n",
            "Epoch 122: g_loss: 0.92334992 d_loss: 1.26697922\n",
            "Epoch 123: g_loss: 0.91438854 d_loss: 1.27017069\n",
            "Epoch 124: g_loss: 0.90641558 d_loss: 1.27757680\n",
            "Epoch 125: g_loss: 0.92840332 d_loss: 1.26391351\n",
            "Epoch 126: g_loss: 0.91428411 d_loss: 1.27204776\n",
            "Epoch 127: g_loss: 0.90780115 d_loss: 1.27324831\n",
            "Epoch 128: g_loss: 0.91649479 d_loss: 1.26542902\n",
            "Epoch 129: g_loss: 0.92044061 d_loss: 1.27387905\n",
            "Epoch 130: g_loss: 0.92360616 d_loss: 1.26362669\n",
            "Epoch 131: g_loss: 0.89179391 d_loss: 1.27704072\n",
            "Epoch 132: g_loss: 0.90046477 d_loss: 1.27551949\n",
            "Epoch 133: g_loss: 0.91707814 d_loss: 1.27362609\n",
            "Epoch 134: g_loss: 0.91183281 d_loss: 1.26984632\n",
            "Epoch 135: g_loss: 0.88910490 d_loss: 1.28106904\n",
            "Epoch 136: g_loss: 0.89721513 d_loss: 1.27384424\n",
            "Epoch 137: g_loss: 0.91167295 d_loss: 1.27231300\n",
            "Epoch 138: g_loss: 0.89323837 d_loss: 1.27696824\n",
            "Epoch 139: g_loss: 0.89160287 d_loss: 1.27573740\n",
            "Epoch 140: g_loss: 0.89052552 d_loss: 1.28019500\n",
            "Epoch 141: g_loss: 0.91218770 d_loss: 1.27088833\n",
            "Epoch 142: g_loss: 0.90130407 d_loss: 1.27845287\n",
            "Epoch 143: g_loss: 0.90526271 d_loss: 1.27557242\n",
            "Epoch 144: g_loss: 0.89613920 d_loss: 1.27409053\n",
            "Epoch 145: g_loss: 0.90346867 d_loss: 1.27855468\n",
            "Epoch 146: g_loss: 0.89477539 d_loss: 1.27847612\n",
            "Epoch 147: g_loss: 0.90104049 d_loss: 1.27419960\n",
            "Epoch 148: g_loss: 0.89271384 d_loss: 1.27821267\n",
            "Epoch 149: g_loss: 0.90429634 d_loss: 1.28048921\n",
            "Epoch 150: g_loss: 0.90782708 d_loss: 1.26987016\n",
            "Epoch 151: g_loss: 0.90574425 d_loss: 1.27468002\n",
            "Epoch 152: g_loss: 0.90050393 d_loss: 1.27359700\n",
            "Epoch 153: g_loss: 0.90042067 d_loss: 1.27710509\n",
            "Epoch 154: g_loss: 0.88777804 d_loss: 1.28397071\n",
            "Epoch 155: g_loss: 0.89830989 d_loss: 1.27868068\n",
            "Epoch 156: g_loss: 0.89792395 d_loss: 1.27838397\n",
            "Epoch 157: g_loss: 0.89648223 d_loss: 1.27708924\n",
            "Epoch 158: g_loss: 0.88547421 d_loss: 1.28757954\n",
            "Epoch 159: g_loss: 0.89387321 d_loss: 1.28750241\n",
            "Epoch 160: g_loss: 0.88527602 d_loss: 1.28380525\n",
            "Epoch 161: g_loss: 0.90134579 d_loss: 1.27709460\n",
            "Epoch 162: g_loss: 0.88977253 d_loss: 1.28315401\n",
            "Epoch 163: g_loss: 0.88893253 d_loss: 1.28048086\n",
            "Epoch 164: g_loss: 0.88536382 d_loss: 1.28320253\n",
            "Epoch 165: g_loss: 0.89247042 d_loss: 1.28035569\n",
            "Epoch 166: g_loss: 0.90140671 d_loss: 1.27821803\n",
            "Epoch 167: g_loss: 0.88952643 d_loss: 1.27980530\n",
            "Epoch 168: g_loss: 0.87985283 d_loss: 1.28424132\n",
            "Epoch 169: g_loss: 0.88676578 d_loss: 1.28240919\n",
            "Epoch 170: g_loss: 0.88666552 d_loss: 1.28561401\n",
            "Epoch 171: g_loss: 0.88521004 d_loss: 1.28404045\n",
            "Epoch 172: g_loss: 0.89520049 d_loss: 1.28268898\n",
            "Epoch 173: g_loss: 0.88247752 d_loss: 1.28157544\n",
            "Epoch 174: g_loss: 0.89131492 d_loss: 1.28590560\n",
            "Epoch 175: g_loss: 0.87875736 d_loss: 1.28496838\n",
            "Epoch 176: g_loss: 0.87721395 d_loss: 1.28555667\n",
            "Epoch 177: g_loss: 0.89670956 d_loss: 1.27959859\n",
            "Epoch 178: g_loss: 0.89869261 d_loss: 1.27487516\n",
            "Epoch 179: g_loss: 0.88875008 d_loss: 1.28328812\n",
            "Epoch 180: g_loss: 0.88325357 d_loss: 1.28373313\n",
            "Epoch 181: g_loss: 0.88840079 d_loss: 1.28169525\n",
            "Epoch 182: g_loss: 0.87936783 d_loss: 1.28701651\n",
            "Epoch 183: g_loss: 0.88146156 d_loss: 1.28402460\n",
            "Epoch 184: g_loss: 0.86984539 d_loss: 1.29046106\n",
            "Epoch 185: g_loss: 0.88840264 d_loss: 1.28586042\n",
            "Epoch 186: g_loss: 0.88984770 d_loss: 1.28749466\n",
            "Epoch 187: g_loss: 0.88791174 d_loss: 1.27954745\n",
            "Epoch 188: g_loss: 0.88243574 d_loss: 1.28679872\n",
            "Epoch 189: g_loss: 0.88560551 d_loss: 1.28343689\n",
            "Epoch 190: g_loss: 0.88750035 d_loss: 1.28752470\n",
            "Epoch 191: g_loss: 0.87386292 d_loss: 1.28995156\n",
            "Epoch 192: g_loss: 0.86969960 d_loss: 1.29250824\n",
            "Epoch 193: g_loss: 0.87875003 d_loss: 1.28800857\n",
            "Epoch 194: g_loss: 0.87714690 d_loss: 1.28787720\n",
            "Epoch 195: g_loss: 0.89042485 d_loss: 1.27847230\n",
            "Epoch 196: g_loss: 0.88101304 d_loss: 1.28554142\n",
            "Epoch 197: g_loss: 0.88317615 d_loss: 1.28588521\n",
            "Epoch 198: g_loss: 0.88940996 d_loss: 1.28121972\n",
            "Epoch 199: g_loss: 0.87711561 d_loss: 1.28811502\n",
            "Epoch 200: g_loss: 0.87487727 d_loss: 1.28997326\n",
            "Epoch 201: g_loss: 0.89193535 d_loss: 1.28205645\n",
            "Epoch 202: g_loss: 0.88346696 d_loss: 1.28383577\n",
            "Epoch 203: g_loss: 0.87836218 d_loss: 1.28718793\n",
            "Epoch 204: g_loss: 0.87573504 d_loss: 1.28945959\n",
            "Epoch 205: g_loss: 0.88225806 d_loss: 1.29070568\n",
            "Epoch 206: g_loss: 0.88145208 d_loss: 1.28774858\n",
            "Epoch 207: g_loss: 0.87922120 d_loss: 1.28696561\n",
            "Epoch 208: g_loss: 0.87583846 d_loss: 1.28953218\n",
            "Epoch 209: g_loss: 0.87168729 d_loss: 1.28828251\n",
            "Epoch 210: g_loss: 0.87139094 d_loss: 1.29339123\n",
            "Epoch 211: g_loss: 0.86930251 d_loss: 1.29374611\n",
            "Epoch 212: g_loss: 0.87917358 d_loss: 1.28758442\n",
            "Epoch 213: g_loss: 0.87447900 d_loss: 1.29285336\n",
            "Epoch 214: g_loss: 0.88216454 d_loss: 1.29186690\n",
            "Epoch 215: g_loss: 0.87409645 d_loss: 1.29148328\n",
            "Epoch 216: g_loss: 0.87288392 d_loss: 1.29010928\n",
            "Epoch 217: g_loss: 0.87592620 d_loss: 1.29192030\n",
            "Epoch 218: g_loss: 0.88393444 d_loss: 1.28500783\n",
            "Epoch 219: g_loss: 0.87234217 d_loss: 1.29721892\n",
            "Epoch 220: g_loss: 0.87198651 d_loss: 1.29149556\n",
            "Epoch 221: g_loss: 0.86400771 d_loss: 1.29553723\n",
            "Epoch 222: g_loss: 0.86894733 d_loss: 1.29379833\n",
            "Epoch 223: g_loss: 0.87727123 d_loss: 1.29075408\n",
            "Epoch 224: g_loss: 0.87714547 d_loss: 1.28674901\n",
            "Epoch 225: g_loss: 0.87788200 d_loss: 1.28928232\n",
            "Epoch 226: g_loss: 0.87441134 d_loss: 1.29275703\n",
            "Epoch 227: g_loss: 0.88259768 d_loss: 1.28292084\n",
            "Epoch 228: g_loss: 0.87323201 d_loss: 1.29189503\n",
            "Epoch 229: g_loss: 0.85813993 d_loss: 1.29569364\n",
            "Epoch 230: g_loss: 0.87453502 d_loss: 1.29074490\n",
            "Epoch 231: g_loss: 0.87326854 d_loss: 1.29582477\n",
            "Epoch 232: g_loss: 0.86280566 d_loss: 1.29490578\n",
            "Epoch 233: g_loss: 0.85312301 d_loss: 1.29823351\n",
            "Epoch 234: g_loss: 0.88472146 d_loss: 1.29221570\n",
            "Epoch 235: g_loss: 0.87161493 d_loss: 1.29049098\n",
            "Epoch 236: g_loss: 0.87061888 d_loss: 1.29377592\n",
            "Epoch 237: g_loss: 0.86461067 d_loss: 1.29403996\n",
            "Epoch 238: g_loss: 0.87290603 d_loss: 1.29225421\n",
            "Epoch 239: g_loss: 0.88240701 d_loss: 1.29009092\n",
            "Epoch 240: g_loss: 0.86326665 d_loss: 1.29661357\n",
            "Epoch 241: g_loss: 0.86837852 d_loss: 1.29480624\n",
            "Epoch 242: g_loss: 0.85698199 d_loss: 1.29505301\n",
            "Epoch 243: g_loss: 0.88458604 d_loss: 1.28880298\n",
            "Epoch 244: g_loss: 0.86439729 d_loss: 1.29455149\n",
            "Epoch 245: g_loss: 0.86146444 d_loss: 1.29384351\n",
            "Epoch 246: g_loss: 0.86590296 d_loss: 1.29425609\n",
            "Epoch 247: g_loss: 0.88282788 d_loss: 1.29581666\n",
            "Epoch 248: g_loss: 0.88293105 d_loss: 1.28793514\n",
            "Epoch 249: g_loss: 0.86925697 d_loss: 1.28877461\n",
            "Training Finished\n"
          ]
        }
      ],
      "source": [
        "num_epochs = 250\n",
        "k = 1\n",
        "test_noise = noise(64)\n",
        "\n",
        "generator.train()\n",
        "discriminator.train()\n",
        "for epoch in range(num_epochs):\n",
        "    g_error = 0.0\n",
        "    d_error = 0.0\n",
        "    for i, data in enumerate(trainloader):\n",
        "        imgs, _ = data\n",
        "        n = len(imgs)\n",
        "        # for j in range(k):\n",
        "        fake_data = generator(noise(n)).detach()\n",
        "        real_data = imgs.to(device)\n",
        "        d_error += train_discriminator(d_optim, real_data, fake_data)\n",
        "        fake_data = generator(noise(n))\n",
        "        g_error += train_generator(g_optim, fake_data)\n",
        "\n",
        "    img = generator(test_noise).cpu().detach()\n",
        "    img = make_grid(img)\n",
        "    images.append(img)\n",
        "    g_losses.append(g_error/i)\n",
        "    d_losses.append(d_error/i)\n",
        "    print('Epoch {}: g_loss: {:.8f} d_loss: {:.8f}\\r'.format(epoch, g_error/i, d_error/i))\n",
        "\n",
        "print('Training Finished')\n",
        "torch.save(generator.state_dict(), 'mnist_generator.pth')"
      ]
    },
    {
      "cell_type": "code",
      "source": [
        "display(to_image(images[249]))"
      ],
      "metadata": {
        "colab": {
          "base_uri": "https://localhost:8080/",
          "height": 259
        },
        "id": "srxtuJaH_VSW",
        "outputId": "56abf6d2-fa1e-45bd-cc9e-77eb9dcaa528"
      },
      "execution_count": null,
      "outputs": [
        {
          "output_type": "display_data",
          "data": {
            "text/plain": [
              "<PIL.Image.Image image mode=RGB size=242x242>"
            ],
            "image/png": "[encoded data removed]"
          },
          "metadata": {}
        }
      ]
    },
    {
      "cell_type": "code",
      "source": [
        "import torch\n",
        "from torchvision import utils\n",
        "import os\n",
        "\n",
        "idx=1\n",
        "for image in images:\n",
        "    # Convert the tensor to a PIL image\n",
        "    image=to_image(image)\n",
        "    # pil_image = utils.tensor_to_image(image)\n",
        "    # Save the PIL image with the index as part of the file name\n",
        "    file_name = f\"image_{idx}.png\"\n",
        "    file_path = os.path.join(\"/content/vanillaGan_images_epochs\", file_name)\n",
        "    image.save(file_path)\n",
        "    idx+=1\n"
      ],
      "metadata": {
        "id": "js9RXOxFA2Ks"
      },
      "execution_count": null,
      "outputs": []
    },
    {
      "cell_type": "code",
      "source": [
        "from google.colab import drive\n",
        "drive.mount('/content/drive')"
      ],
      "metadata": {
        "id": "aqWetmxiDRDK"
      },
      "execution_count": null,
      "outputs": []
    },
    {
      "cell_type": "code",
      "source": [
        "import numpy as np\n",
        "idx=1\n",
        "for image in images:\n",
        "  image=to_image(image)\n",
        "  file_name = f\"image_{idx}.png\"\n",
        "  file_path = os.path.join(\"/content/drive/My Drive/vanilla_images_epochs\", file_name)\n",
        "  image.save(file_path)\n",
        "  idx+=1\n",
        "# from PIL import Image\n",
        "# import numpy as np\n",
        "\n",
        "# # Example image array (replace this with your image data)\n",
        "# image_array = np.random.randint(0, 255, size=(200, 200, 3), dtype=np.uint8)\n",
        "\n",
        "# Convert the numpy array to a PIL image\n",
        "# image_pil = Image.fromarray(image_array)\n",
        "\n",
        "# Save the image to Google Drive (replace '/content/drive/My Drive/' with your desired directory path)\n",
        "# image_pil.save('/content/drive/My Drive/image.png')\n",
        "\n",
        "# Save the image to the local Colab environment\n",
        "# image_pil.save('image.png')\n"
      ],
      "metadata": {
        "id": "VBoCh2zdCd1T"
      },
      "execution_count": null,
      "outputs": []
    },
    {
      "cell_type": "code",
      "execution_count": null,
      "metadata": {
        "id": "cxt9KxwZ39l8"
      },
      "outputs": [],
      "source": [
        "imgs = [np.array(to_image(i)) for i in images]\n",
        "imageio.mimsave('vanilla_progress.gif', imgs)"
      ]
    },
    {
      "cell_type": "code",
      "execution_count": null,
      "metadata": {
        "id": "HC2wPPzVSQeM"
      },
      "outputs": [],
      "source": [
        "# Assuming 'to_image' is a function that converts a tensor to an image\n",
        "# Replace 'images' with your list of tensors\n",
        "imgs = [np.array(to_image(i.cpu())) for i in images]  # Use .cpu() to move tensor to CPU\n",
        "imageio.mimsave('progress.gif', imgs)\n",
        "\n",
        "generator_losses=[tensor.item() for tensor in g_losses]\n",
        "discriminator_losses=[tensor.item() for tensor in d_losses]\n",
        "plt.plot(generator_losses, label='Generator_Losses')\n",
        "plt.plot(discriminator_losses, label='Discriminator Losses')\n",
        "plt.legend()\n",
        "plt.savefig('loss.png')"
      ]
    },
    {
      "cell_type": "code",
      "source": [
        "print(d_losses[0].item())"
      ],
      "metadata": {
        "id": "dGPReOgUseTP"
      },
      "execution_count": null,
      "outputs": []
    },
    {
      "cell_type": "code",
      "source": [
        "data = [torch.tensor(0.8919, device='cuda:0', requires_grad=True),\n",
        "        torch.tensor(0.7764, device='cuda:0', requires_grad=True),\n",
        "        torch.tensor(0.5432, device='cuda:0', requires_grad=True)]\n",
        "\n",
        "# Extract numerical values from each tensor\n"
      ],
      "metadata": {
        "id": "MukQ6JijshTq"
      },
      "execution_count": null,
      "outputs": []
    },
    {
      "cell_type": "code",
      "source": [
        "print(values)"
      ],
      "metadata": {
        "id": "1IROayA_tCE1"
      },
      "execution_count": null,
      "outputs": []
    }
  ],
  "metadata": {
    "accelerator": "GPU",
    "colab": {
      "provenance": []
    },
    "kernelspec": {
      "display_name": "Python 3 (ipykernel)",
      "language": "python",
      "name": "python3"
    },
    "language_info": {
      "codemirror_mode": {
        "name": "ipython",
        "version": 3
      },
      "file_extension": ".py",
      "mimetype": "text/x-python",
      "name": "python",
      "nbconvert_exporter": "python",
      "pygments_lexer": "ipython3",
      "version": "3.9.12"
    }
  },
  "nbformat": 4,
  "nbformat_minor": 0
}